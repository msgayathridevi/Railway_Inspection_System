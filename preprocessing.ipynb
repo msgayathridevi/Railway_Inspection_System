{
 "cells": [
  {
   "cell_type": "code",
   "execution_count": 29,
   "id": "e4d51a16-4b45-48d7-8543-7b595a85b064",
   "metadata": {},
   "outputs": [
    {
     "data": {
      "application/javascript": [
       "IPython.notebook.set_autosave_interval(60000)"
      ]
     },
     "metadata": {},
     "output_type": "display_data"
    },
    {
     "name": "stdout",
     "output_type": "stream",
     "text": [
      "Autosaving every 60 seconds\n"
     ]
    }
   ],
   "source": [
    "%autosave 60"
   ]
  },
  {
   "cell_type": "code",
   "execution_count": 33,
   "id": "82cb5193-7cde-4157-8e50-3654879191a4",
   "metadata": {},
   "outputs": [],
   "source": [
    "import cv2\n",
    "import numpy as np\n",
    "# !pip install google-colab\n",
    "#from google.colab.patches import cv2_imshow\n",
    "#install --record ('C:\\Users\\DELL\\AppData\\Local\\Temp\\pip-record-ojc_g7w3\\install-record.txt'"
   ]
  },
  {
   "cell_type": "code",
   "execution_count": 34,
   "id": "53d3d6fc-f418-4304-8021-5d7a9f8a647f",
   "metadata": {},
   "outputs": [],
   "source": [
    "img = cv2.imread(\"E:/integration/EasyOCR-main/sign.png\")\n",
    "img = cv2.cvtColor(img,cv2.COLOR_BGR2GRAY) # CONVERT TO GRAYSCALE\n",
    "img =cv2.equalizeHist(img) # STANDARDIZE THE LIGHTING IN AN IMAGE\n",
    "img = img/255  # TO NORMALIZE VALUES BETWEEN 0 AND 1 INSTEAD OF 0 TO 255"
   ]
  },
  {
   "cell_type": "markdown",
   "id": "ab8fe129-10f9-48c4-90ec-f7757a914e18",
   "metadata": {},
   "source": [
    "## SMOOTHENING"
   ]
  },
  {
   "cell_type": "code",
   "execution_count": 35,
   "id": "a706f939-bcc8-485e-9e26-004a1da0c822",
   "metadata": {},
   "outputs": [],
   "source": [
    "# Creating the kernel with numpy\n",
    "kernel2 = np.ones((5, 5), np.float32)/25\n",
    " "
   ]
  },
  {
   "cell_type": "markdown",
   "id": "7c18e5ec-bf9c-423e-ba14-52f34a08997f",
   "metadata": {},
   "source": [
    "## FILTER"
   ]
  },
  {
   "cell_type": "code",
   "execution_count": 36,
   "id": "8ac4acb9-3504-421d-ade4-c2c8f3787227",
   "metadata": {},
   "outputs": [],
   "source": [
    "# Applying the filter\n",
    "img = cv2.filter2D(src=img, ddepth=-1, kernel=kernel2)\n",
    " \n",
    "# Showing the image\n",
    "#cv2.imshow('sign.png',img)\n",
    "#cv2.imwrite('surf.jpeg',img)"
   ]
  },
  {
   "cell_type": "code",
   "execution_count": 37,
   "id": "64a4bbff-b86f-4edc-bfaf-3f8a94004f05",
   "metadata": {},
   "outputs": [
    {
     "ename": "error",
     "evalue": "OpenCV(4.5.4) d:\\a\\opencv-python\\opencv-python\\opencv\\modules\\imgproc\\src\\color.simd_helpers.hpp:92: error: (-2:Unspecified error) in function '__cdecl cv::impl::`anonymous-namespace'::CvtHelper<struct cv::impl::`anonymous namespace'::Set<3,4,-1>,struct cv::impl::A0x694991f6::Set<1,-1,-1>,struct cv::impl::A0x694991f6::Set<0,2,5>,2>::CvtHelper(const class cv::_InputArray &,const class cv::_OutputArray &,int)'\n> Invalid number of channels in input image:\n>     'VScn::contains(scn)'\n> where\n>     'scn' is 1\n",
     "output_type": "error",
     "traceback": [
      "\u001b[1;31m---------------------------------------------------------------------------\u001b[0m",
      "\u001b[1;31merror\u001b[0m                                     Traceback (most recent call last)",
      "Input \u001b[1;32mIn [37]\u001b[0m, in \u001b[0;36m<cell line: 2>\u001b[1;34m()\u001b[0m\n\u001b[0;32m      1\u001b[0m \u001b[38;5;66;03m#plt.imshow(cv2.cvtColor(img, cv2.COLOR_BGR2RGB))\u001b[39;00m\n\u001b[1;32m----> 2\u001b[0m gray \u001b[38;5;241m=\u001b[39m \u001b[43mcv2\u001b[49m\u001b[38;5;241;43m.\u001b[39;49m\u001b[43mcvtColor\u001b[49m\u001b[43m(\u001b[49m\u001b[43mimg\u001b[49m\u001b[43m,\u001b[49m\u001b[43m \u001b[49m\u001b[43mcv2\u001b[49m\u001b[38;5;241;43m.\u001b[39;49m\u001b[43mCOLOR_BGR2GRAY\u001b[49m\u001b[43m)\u001b[49m\n",
      "\u001b[1;31merror\u001b[0m: OpenCV(4.5.4) d:\\a\\opencv-python\\opencv-python\\opencv\\modules\\imgproc\\src\\color.simd_helpers.hpp:92: error: (-2:Unspecified error) in function '__cdecl cv::impl::`anonymous-namespace'::CvtHelper<struct cv::impl::`anonymous namespace'::Set<3,4,-1>,struct cv::impl::A0x694991f6::Set<1,-1,-1>,struct cv::impl::A0x694991f6::Set<0,2,5>,2>::CvtHelper(const class cv::_InputArray &,const class cv::_OutputArray &,int)'\n> Invalid number of channels in input image:\n>     'VScn::contains(scn)'\n> where\n>     'scn' is 1\n"
     ]
    }
   ],
   "source": [
    "#plt.imshow(cv2.cvtColor(img, cv2.COLOR_BGR2RGB))\n",
    "#gray = cv2.cvtColor(img, cv2.COLOR_BGR2GRAY)\n",
    "#plt.imshow(gray)"
   ]
  },
  {
   "cell_type": "markdown",
   "id": "eb47cef7-3935-4902-81c3-82dd4e62baed",
   "metadata": {},
   "source": [
    "## DENOISING"
   ]
  },
  {
   "cell_type": "code",
   "execution_count": null,
   "id": "56fe3061-90c2-4cf7-9c1b-4a580fdd5c7f",
   "metadata": {},
   "outputs": [],
   "source": [
    "denoised1=cv2.fastNlMeansDenoising(img,None,10,10)\n",
    "plt.imshow(img,cmap='gray')"
   ]
  },
  {
   "cell_type": "code",
   "execution_count": null,
   "id": "01be873c-e907-4273-8b87-67c449c0a21f",
   "metadata": {},
   "outputs": [],
   "source": []
  },
  {
   "cell_type": "code",
   "execution_count": null,
   "id": "cfa31abe-905e-48b3-9742-22fedf65c501",
   "metadata": {},
   "outputs": [],
   "source": []
  }
 ],
 "metadata": {
  "kernelspec": {
   "display_name": "Python 3 (ipykernel)",
   "language": "python",
   "name": "python3"
  },
  "language_info": {
   "codemirror_mode": {
    "name": "ipython",
    "version": 3
   },
   "file_extension": ".py",
   "mimetype": "text/x-python",
   "name": "python",
   "nbconvert_exporter": "python",
   "pygments_lexer": "ipython3",
   "version": "3.9.12"
  }
 },
 "nbformat": 4,
 "nbformat_minor": 5
}
