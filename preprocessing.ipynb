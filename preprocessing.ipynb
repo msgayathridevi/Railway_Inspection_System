{
 "cells": [
  {
   "cell_type": "code",
   "execution_count": null,
   "id": "e4d51a16-4b45-48d7-8543-7b595a85b064",
   "metadata": {},
   "outputs": [],
   "source": [
    "%autosave 60"
   ]
  },
  {
   "cell_type": "code",
   "execution_count": null,
   "id": "82cb5193-7cde-4157-8e50-3654879191a4",
   "metadata": {},
   "outputs": [],
   "source": [
    "import cv2\n",
    "import numpy as np"
   ]
  },
  {
   "cell_type": "code",
   "execution_count": null,
   "id": "53d3d6fc-f418-4304-8021-5d7a9f8a647f",
   "metadata": {},
   "outputs": [],
   "source": [
    "img = cv2.imread(\"E:/integration/EasyOCR-main/sign.png\")\n",
    "img = cv2.cvtColor(img,cv2.COLOR_BGR2GRAY) # CONVERT TO GRAYSCALE\n",
    "img =cv2.equalizeHist(img) # STANDARDIZE THE LIGHTING IN AN IMAGE\n",
    "img = img/255  # TO NORMALIZE VALUES BETWEEN 0 AND 1 INSTEAD OF 0 TO 255"
   ]
  },
  {
   "cell_type": "markdown",
   "id": "ab8fe129-10f9-48c4-90ec-f7757a914e18",
   "metadata": {},
   "source": [
    "## SMOOTHENING"
   ]
  },
  {
   "cell_type": "code",
   "execution_count": null,
   "id": "a706f939-bcc8-485e-9e26-004a1da0c822",
   "metadata": {},
   "outputs": [],
   "source": [
    "# Creating the kernel with numpy\n",
    "kernel2 = np.ones((5, 5), np.float32)/25\n",
    " "
   ]
  },
  {
   "cell_type": "code",
   "execution_count": null,
   "id": "64a4bbff-b86f-4edc-bfaf-3f8a94004f05",
   "metadata": {},
   "outputs": [],
   "source": [
    "#plt.imshow(cv2.cvtColor(img, cv2.COLOR_BGR2RGB))\n",
    "#gray = cv2.cvtColor(img, cv2.COLOR_BGR2GRAY)\n",
    "#plt.imshow(gray)"
   ]
  },
  {
   "cell_type": "markdown",
   "id": "eb47cef7-3935-4902-81c3-82dd4e62baed",
   "metadata": {},
   "source": [
    "## DENOISING"
   ]
  },
  {
   "cell_type": "code",
   "execution_count": null,
   "id": "56fe3061-90c2-4cf7-9c1b-4a580fdd5c7f",
   "metadata": {},
   "outputs": [],
   "source": [
    "denoised1=cv2.fastNlMeansDenoising(img,None,10,10)\n",
    "plt.imshow(img,cmap='gray')"
   ]
  }
 ],
 "metadata": {
  "kernelspec": {
   "display_name": "Python 3 (ipykernel)",
   "language": "python",
   "name": "python3"
  },
  "language_info": {
   "codemirror_mode": {
    "name": "ipython",
    "version": 3
   },
   "file_extension": ".py",
   "mimetype": "text/x-python",
   "name": "python",
   "nbconvert_exporter": "python",
   "pygments_lexer": "ipython3",
   "version": "3.9.12"
  }
 },
 "nbformat": 4,
 "nbformat_minor": 5
}
