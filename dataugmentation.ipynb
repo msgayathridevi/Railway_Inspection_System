{
 "cells": [
  {
   "cell_type": "code",
   "execution_count": 2,
   "metadata": {},
   "outputs": [
    {
     "data": {
      "application/javascript": "IPython.notebook.set_autosave_interval(5000)"
     },
     "metadata": {},
     "output_type": "display_data"
    },
    {
     "name": "stdout",
     "output_type": "stream",
     "text": [
      "Autosaving every 5 seconds\n"
     ]
    }
   ],
   "source": [
    "%autosave 5"
   ]
  },
  {
   "cell_type": "code",
   "execution_count": 4,
   "metadata": {},
   "outputs": [],
   "source": [
    "from ctypes import resize\n",
    "from keras.preprocessing.image import ImageDataGenerator\n",
    "from skimage import io\n",
    "#!pip install opencv-python\n",
    "import cv2\n",
    "import matplotlib.pyplot as plt\n",
    "import numpy as np\n",
    "# from google.colab.patches import cv2_imshow"
   ]
  },
  {
   "cell_type": "code",
   "execution_count": null,
   "metadata": {},
   "outputs": [],
   "source": [
    "datagen = ImageDataGenerator(\n",
    "        rotation_range=30,     #Random rotation between 0 and 30\n",
    "        width_shift_range=0.2,   #% shift\n",
    "        height_shift_range=0.2,\n",
    "        shear_range=0.5,\n",
    "        zoom_range=0.4,\n",
    "        horizontal_flip=False,\n",
    "        brightness_range = (0.001, 2.5),\n",
    "        fill_mode='nearest')#Also try nearest, constant, reflect, wrap\n"
   ]
  },
  {
   "cell_type": "code",
   "execution_count": null,
   "metadata": {},
   "outputs": [
    {
     "ename": "",
     "evalue": "",
     "output_type": "error",
     "traceback": [
      "\u001b[1;31mRunning cells with 'Python 3.11.0 64-bit' requires ipykernel package.\n",
      "\u001b[1;31mRun the following command to install 'ipykernel' into the Python environment. \n",
      "\u001b[1;31mCommand: 'c:/Users/My/AppData/Local/Programs/Python/Python311/python.exe -m pip install ipykernel -U --user --force-reinstall'"
     ]
    }
   ],
   "source": [
    "dataset = []\n",
    "\n",
    "import numpy as np\n",
    "from skimage import io\n",
    "import os\n",
    "from PIL import Image\n",
    "\n",
    "image_directory = 'E:/iiitb/integration/data_augumentation/aug_dataset/barrier/'\n",
    "SIZE = 128\n",
    "dataset = []\n",
    "imagess=[]\n",
    "my_images = os.listdir(image_directory)\n",
    "for i, image_name in enumerate(my_images):\n",
    "    if (image_name.split('.')[1] in ['jpg','jpeg','png','html']):\n",
    "        image = io.imread(image_directory + image_name)\n",
    "        imagess.append(cv2.imread(image_name))\n",
    "        #print(str(image_name))\n",
    "        image = Image.fromarray(image, 'RGB')\n",
    "        image = image.resize((SIZE,SIZE))\n",
    "        dataset.append(np.array(image))"
   ]
  },
  {
   "cell_type": "code",
   "execution_count": null,
   "metadata": {},
   "outputs": [],
   "source": []
  },
  {
   "cell_type": "markdown",
   "metadata": {},
   "source": [
    "## NOISE"
   ]
  },
  {
   "cell_type": "code",
   "execution_count": 1,
   "metadata": {},
   "outputs": [
    {
     "ename": "error",
     "evalue": "OpenCV(4.6.0) D:\\a\\opencv-python\\opencv-python\\opencv\\modules\\core\\src\\arithm.cpp:674: error: (-5:Bad argument) When the input arrays in add/subtract/multiply/divide functions have different types, the output array type must be explicitly specified in function 'cv::arithm_op'\n",
     "output_type": "error",
     "traceback": [
      "\u001b[1;31m---------------------------------------------------------------------------\u001b[0m",
      "\u001b[1;31merror\u001b[0m                                     Traceback (most recent call last)",
      "\u001b[1;32m~\\AppData\\Local\\Temp\\ipykernel_12784\\3818184887.py\u001b[0m in \u001b[0;36m<module>\u001b[1;34m\u001b[0m\n\u001b[0;32m      8\u001b[0m \u001b[0mcv2\u001b[0m\u001b[1;33m.\u001b[0m\u001b[0mrandu\u001b[0m\u001b[1;33m(\u001b[0m\u001b[0mgauss_noise\u001b[0m\u001b[1;33m,\u001b[0m\u001b[1;36m128\u001b[0m\u001b[1;33m,\u001b[0m\u001b[1;36m20\u001b[0m\u001b[1;33m)\u001b[0m\u001b[1;33m\u001b[0m\u001b[1;33m\u001b[0m\u001b[0m\n\u001b[0;32m      9\u001b[0m \u001b[0mgauss_noise\u001b[0m\u001b[1;33m=\u001b[0m\u001b[1;33m(\u001b[0m\u001b[0mgauss_noise\u001b[0m\u001b[1;33m*\u001b[0m\u001b[1;36m0.5\u001b[0m\u001b[1;33m)\u001b[0m\u001b[1;33m.\u001b[0m\u001b[0mastype\u001b[0m\u001b[1;33m(\u001b[0m\u001b[0mnp\u001b[0m\u001b[1;33m.\u001b[0m\u001b[0muint8\u001b[0m\u001b[1;33m)\u001b[0m\u001b[1;33m\u001b[0m\u001b[1;33m\u001b[0m\u001b[0m\n\u001b[1;32m---> 10\u001b[1;33m \u001b[0mgn_img\u001b[0m\u001b[1;33m=\u001b[0m\u001b[0mcv2\u001b[0m\u001b[1;33m.\u001b[0m\u001b[0madd\u001b[0m\u001b[1;33m(\u001b[0m\u001b[0mimg\u001b[0m\u001b[1;33m,\u001b[0m\u001b[0mgauss_noise\u001b[0m\u001b[1;33m)\u001b[0m\u001b[1;33m\u001b[0m\u001b[1;33m\u001b[0m\u001b[0m\n\u001b[0m\u001b[0;32m     11\u001b[0m \u001b[1;33m\u001b[0m\u001b[0m\n\u001b[0;32m     12\u001b[0m \u001b[0mplt\u001b[0m\u001b[1;33m.\u001b[0m\u001b[0maxis\u001b[0m\u001b[1;33m(\u001b[0m\u001b[1;34m\"off\"\u001b[0m\u001b[1;33m)\u001b[0m\u001b[1;33m\u001b[0m\u001b[1;33m\u001b[0m\u001b[0m\n",
      "\u001b[1;31merror\u001b[0m: OpenCV(4.6.0) D:\\a\\opencv-python\\opencv-python\\opencv\\modules\\core\\src\\arithm.cpp:674: error: (-5:Bad argument) When the input arrays in add/subtract/multiply/divide functions have different types, the output array type must be explicitly specified in function 'cv::arithm_op'\n"
     ]
    },
    {
     "data": {
      "text/plain": [
       "<Figure size 1920x1440 with 0 Axes>"
      ]
     },
     "metadata": {},
     "output_type": "display_data"
    }
   ],
   "source": [
    "# TYPE 1\n",
    "\n",
    "img=cv2.imread('E:/iiitb/integration/data_augumentation/aug_dataset/barrier/_82477379_04dc99bd-4040-4806-990e-7cdc17b227aa.jpg')\n",
    "img = img/255.0\n",
    "fig=plt.figure(dpi=300)\n",
    "\n",
    "gauss_noise=np.zeros((img.shape),dtype=np.uint8)\n",
    "cv2.randn(gauss_noise,128,20)\n",
    "gauss_noise=(gauss_noise*0.5).astype(np.uint8)\n",
    "gn_img=cv2.add(img,gauss_noise)\n",
    "\n",
    "plt.axis(\"off\")\n",
    "# plt.imshow(gn_img)\n",
    "plt.savefig(\"result.png\")\n",
    "\n",
    "uni_noise=np.zeros((img.shape),dtype=np.uint8)\n",
    "cv2.randn(uni_noise,0,255)\n",
    "uni_noise=(uni_noise*0.5).astype(np.uint8)\n",
    "un_img=cv2.add(img,uni_noise)\n",
    "\n",
    "plt.axis(\"off\")\n",
    "# plt.imshow(un_img)\n",
    "plt.savefig(\"result1.png\")\n",
    "\n",
    "imp_noise=np.zeros((img.shape),dtype=np.uint8)\n",
    "cv2.randu(imp_noise,0,255)\n",
    "imp_noise=cv2.threshold(imp_noise,245,255,cv2.THRESH_BINARY)[1]\n",
    "in_img=cv2.add(img,imp_noise)\n",
    "\n",
    "plt.axis(\"off\")\n",
    "# plt.imshow(in_img)\n",
    "plt.savefig(\"result2.png\")\n",
    "#plt.title(\"impulse\")\n",
    "#fig.add_subplot(2,3,2)\n"
   ]
  },
  {
   "cell_type": "code",
   "execution_count": 4,
   "metadata": {},
   "outputs": [
    {
     "ename": "ValueError",
     "evalue": "amount keyword not in allowed keywords ['mean', 'var']",
     "output_type": "error",
     "traceback": [
      "\u001b[1;31m---------------------------------------------------------------------------\u001b[0m",
      "\u001b[1;31mValueError\u001b[0m                                Traceback (most recent call last)",
      "\u001b[1;32me:\\data_augumentation\\dataug.ipynb Cell 6\u001b[0m in \u001b[0;36m<cell line: 9>\u001b[1;34m()\u001b[0m\n\u001b[0;32m      <a href='vscode-notebook-cell:/e%3A/data_augumentation/dataug.ipynb#X14sZmlsZQ%3D%3D?line=5'>6</a>\u001b[0m img \u001b[39m=\u001b[39m cv2\u001b[39m.\u001b[39mimread(\u001b[39m\"\u001b[39m\u001b[39mE:/data_augumentation/img.jpg\u001b[39m\u001b[39m\"\u001b[39m)\n\u001b[0;32m      <a href='vscode-notebook-cell:/e%3A/data_augumentation/dataug.ipynb#X14sZmlsZQ%3D%3D?line=7'>8</a>\u001b[0m \u001b[39m# Add salt-and-pepper noise to the image.\u001b[39;00m\n\u001b[1;32m----> <a href='vscode-notebook-cell:/e%3A/data_augumentation/dataug.ipynb#X14sZmlsZQ%3D%3D?line=8'>9</a>\u001b[0m noise_img \u001b[39m=\u001b[39m random_noise(img, mode\u001b[39m=\u001b[39;49m\u001b[39m'\u001b[39;49m\u001b[39mgaussian\u001b[39;49m\u001b[39m'\u001b[39;49m,amount\u001b[39m=\u001b[39;49m\u001b[39m0.3\u001b[39;49m)\n\u001b[0;32m     <a href='vscode-notebook-cell:/e%3A/data_augumentation/dataug.ipynb#X14sZmlsZQ%3D%3D?line=10'>11</a>\u001b[0m \u001b[39m# The above function returns a floating-point image\u001b[39;00m\n\u001b[0;32m     <a href='vscode-notebook-cell:/e%3A/data_augumentation/dataug.ipynb#X14sZmlsZQ%3D%3D?line=11'>12</a>\u001b[0m \u001b[39m# on the range [0, 1], thus we changed it to 'uint8'\u001b[39;00m\n\u001b[0;32m     <a href='vscode-notebook-cell:/e%3A/data_augumentation/dataug.ipynb#X14sZmlsZQ%3D%3D?line=12'>13</a>\u001b[0m \u001b[39m# and from [0,255]\u001b[39;00m\n\u001b[0;32m     <a href='vscode-notebook-cell:/e%3A/data_augumentation/dataug.ipynb#X14sZmlsZQ%3D%3D?line=13'>14</a>\u001b[0m noise_img \u001b[39m=\u001b[39m np\u001b[39m.\u001b[39marray(\u001b[39m255\u001b[39m\u001b[39m*\u001b[39mnoise_img, dtype \u001b[39m=\u001b[39m \u001b[39m'\u001b[39m\u001b[39muint8\u001b[39m\u001b[39m'\u001b[39m)\n",
      "File \u001b[1;32mc:\\Users\\DELL\\anaconda3\\lib\\site-packages\\skimage\\util\\noise.py:162\u001b[0m, in \u001b[0;36mrandom_noise\u001b[1;34m(image, mode, seed, clip, **kwargs)\u001b[0m\n\u001b[0;32m    160\u001b[0m \u001b[39mfor\u001b[39;00m key \u001b[39min\u001b[39;00m kwargs:\n\u001b[0;32m    161\u001b[0m     \u001b[39mif\u001b[39;00m key \u001b[39mnot\u001b[39;00m \u001b[39min\u001b[39;00m allowedkwargs[allowedtypes[mode]]:\n\u001b[1;32m--> 162\u001b[0m         \u001b[39mraise\u001b[39;00m \u001b[39mValueError\u001b[39;00m(\u001b[39m'\u001b[39m\u001b[39m%s\u001b[39;00m\u001b[39m keyword not in allowed keywords \u001b[39m\u001b[39m%s\u001b[39;00m\u001b[39m'\u001b[39m \u001b[39m%\u001b[39m\n\u001b[0;32m    163\u001b[0m                          (key, allowedkwargs[allowedtypes[mode]]))\n\u001b[0;32m    165\u001b[0m \u001b[39m# Set kwarg defaults\u001b[39;00m\n\u001b[0;32m    166\u001b[0m \u001b[39mfor\u001b[39;00m kw \u001b[39min\u001b[39;00m allowedkwargs[allowedtypes[mode]]:\n",
      "\u001b[1;31mValueError\u001b[0m: amount keyword not in allowed keywords ['mean', 'var']"
     ]
    }
   ],
   "source": [
    "# TYPE 2\n",
    "import cv2\n",
    "import numpy as np\n",
    "from skimage.util import random_noise\n",
    "\n",
    "# Load the image\n",
    "img = cv2.imread(\"E:/data_augumentation/img.jpg\")\n",
    "\n",
    "# Add salt-and-pepper noise to the image.\n",
    "noise_img = random_noise(img, mode='gaussian',amount=0.3)\n",
    "\n",
    "# The above function returns a floating-point image\n",
    "# on the range [0, 1], thus we changed it to 'uint8'\n",
    "# and from [0,255]\n",
    "noise_img = np.array(255*noise_img, dtype = 'uint8')\n",
    "\n",
    "# Display the noise image\n",
    "cv2.imshow('blur',noise_img)\n",
    "cv2.waitKey(0)"
   ]
  },
  {
   "cell_type": "code",
   "execution_count": null,
   "metadata": {},
   "outputs": [],
   "source": [
    "img = 'aug_0_3094.png'\n",
    "from google.colab.patches import cv2_imshow\n",
    "img = cv2.imread(img)\n",
    "bfilter = cv2.bilateralFilter(img, 11, 17, 17)\n",
    "#=img.reshape(-1,28,28,1)\n",
    "type(img)\n",
    "plt.imshow(img)"
   ]
  },
  {
   "cell_type": "markdown",
   "metadata": {},
   "source": [
    "## BLUR"
   ]
  },
  {
   "cell_type": "code",
   "execution_count": null,
   "metadata": {},
   "outputs": [],
   "source": [
    "#Loading a single image for demonstration purposes.\n",
    "#Using flow method to augment the image\n",
    "\n",
    "# Loading a sample image  \n",
    "#Can use any library to read images but they need to be in an array form\n",
    "#If using keras load_img convert it to an array first\n",
    "x = io.imread('E:\\data_augumentation\\speedsignal\\railway-track-number-board-548x411.jpg')\n",
    "# Reshape the input image because ...\n",
    "#x: Input data to datagen.flow must be Numpy array of rank 4 or a tuple.\n",
    "#First element represents the number of images\n",
    "x = x.reshape((1, ) + x.shape)  #Array with shape (1, 256, 256, 3)\n",
    "\n",
    "i = 0\n",
    "for batch in datagen.flow(x, batch_size=32,  \n",
    "                          save_to_dir='augumented', \n",
    "                          save_prefix='aug', \n",
    "                          save_format='png'):\n",
    "        \n",
    "        # 3 blurrs\n",
    "        x1=cv2.imread('E:\\data_augumentation\\speedsignal\\railway-track-number-board-548x411.jpg')\n",
    "        #cv2.imshow('blurred image',i)\n",
    "        #plt.imshow(x)\n",
    "        gauss = cv2.GaussianBlur(x1,(9,9) ,0)\n",
    "        #plt.imshow(blurred_original_image)\n",
    "        avging = cv2.blur(x1,(10,10))\n",
    "        #cv2_imshow(avging)\n",
    "        medBlur = cv2.medianBlur(x1,1)\n",
    "        #cv2_imshow( medBlur)\n",
    "        \n",
    "        # hori vertical blurrs\n",
    "        \n",
    "        kernel_size = 30\n",
    "  \n",
    "        # Create the vertical kernel.\n",
    "        kernel_v = np.zeros((kernel_size, kernel_size))\n",
    "        # Create a copy of the same for creating the horizontal kernel.\n",
    "        kernel_h = np.copy(kernel_v)\n",
    "        # Fill the middle row with ones.\n",
    "        kernel_v[:, int((kernel_size - 1)/2)] = np.ones(kernel_size)\n",
    "        kernel_h[int((kernel_size - 1)/2), :] = np.ones(kernel_size)\n",
    "        # Normalize.\n",
    "        kernel_v /= kernel_size\n",
    "        kernel_h /= kernel_size\n",
    "        # Apply the vertical kernel.\n",
    "        vertical_mb = cv2.filter2D(x1, -1, kernel_v)\n",
    "        # Apply the horizontal kernel.\n",
    "        horizonal_mb = cv2.filter2D(x1, -1, kernel_h)\n",
    "        \n",
    "        # Save the outputs.\n",
    "        #cv2.imwrite('car_vertical.jpg', vertical_mb)\n",
    "        #cv2.imwrite('car_horizontal.jpg', horizonal_mb)\n",
    "\n",
    "        # save files into the folder\n",
    "        #for n in range(0, len(onlyfiles)):\n",
    "        # other things you need to do snipped\n",
    "        c=20\n",
    "        cv2.imwrite(f'E:/data_augumentation/augumented/image.png',gauss)\n",
    "        cv2.imwrite(f'E:/data_augumentation/augumented/image1_{c}.png',avging)\n",
    "        cv2.imwrite(f'E:/data_augumentation/augumented/image2_{c}.png',medBlur)\n",
    "        cv2.imwrite(f'E:/data_augumentation/augumented/image3_{c}.png',vertical_mb)\n",
    "        cv2.imwrite(f'E:/data_augumentation/augumented/image4_{c}.png',horizonal_mb)\n",
    "            \n",
    "        \n",
    "        i += 1\n",
    "        if i > 15:\n",
    "                break  # otherwise the generator would loop indefinitely\n",
    "\n"
   ]
  },
  {
   "cell_type": "code",
   "execution_count": null,
   "metadata": {},
   "outputs": [],
   "source": []
  },
  {
   "cell_type": "code",
   "execution_count": null,
   "metadata": {},
   "outputs": [],
   "source": []
  },
  {
   "cell_type": "code",
   "execution_count": null,
   "metadata": {},
   "outputs": [],
   "source": []
  },
  {
   "cell_type": "code",
   "execution_count": null,
   "metadata": {},
   "outputs": [],
   "source": []
  },
  {
   "cell_type": "code",
   "execution_count": null,
   "metadata": {},
   "outputs": [],
   "source": [
    "# tries NOISE\n",
    "\n",
    "img = cv2.imread('E:/data_augumentation/speedsignal/aug_0_72.png')[...,::-1]/255.0\n",
    "noise =  np.random.normal(loc=0, scale=1, size=img.shape)\n",
    "\n",
    "# noise overlaid over image\n",
    "noisy = np.clip((img + noise*0.2),0,1)\n",
    "noisy2 = np.clip((img + noise*0.4),0,1)\n",
    "\n",
    "# noise multiplied by image:\n",
    "# whites can go to black but blacks cannot go to white\n",
    "noisy2mul = np.clip((img*(1 + noise*0.2)),0,1)\n",
    "noisy4mul = np.clip((img*(1 + noise*0.4)),0,1)\n",
    "\n",
    "noisy2mul = np.clip((img*(1 + noise*0.2)),0,1)\n",
    "noisy4mul = np.clip((img*(1 + noise*0.4)),0,1)\n",
    "\n",
    "# noise multiplied by bottom and top half images,\n",
    "# whites stay white blacks black, noise is added to center\n",
    "img2 = img*2\n",
    "n2 = np.clip(np.where(img2 <= 1, (img2*(1 + noise*0.2)), (1-img2+1)*(1 + noise*0.2)*-1 + 2)/2, 0,1)\n",
    "n4 = np.clip(np.where(img2 <= 1, (img2*(1 + noise*0.4)), (1-img2+1)*(1 + noise*0.4)*-1 + 2)/2, 0,1)\n",
    "\n",
    "\n",
    "# norm noise for viz only\n",
    "noise2 = (noise - noise.min())/(noise.max()-noise.min())\n",
    "plt.figure(figsize=(5,5))\n",
    "#plt.imshow(np.vstack((np.hstack((img, n2)))))\n",
    "plt.show(noise2)\n",
    "plt.show()"
   ]
  },
  {
   "cell_type": "code",
   "execution_count": null,
   "metadata": {},
   "outputs": [],
   "source": []
  }
 ],
 "metadata": {
  "kernelspec": {
   "display_name": "Python 3 (ipykernel)",
   "language": "python",
   "name": "python3"
  },
  "language_info": {
   "codemirror_mode": {
    "name": "ipython",
    "version": 3
   },
   "file_extension": ".py",
   "mimetype": "text/x-python",
   "name": "python",
   "nbconvert_exporter": "python",
   "pygments_lexer": "ipython3",
   "version": "3.11.0"
  },
  "vscode": {
   "interpreter": {
    "hash": "ee18529d48a9560b2b2d3d33a8e2e2ddc008c290d29667e366a96763a85f941d"
   }
  }
 },
 "nbformat": 4,
 "nbformat_minor": 4
}
