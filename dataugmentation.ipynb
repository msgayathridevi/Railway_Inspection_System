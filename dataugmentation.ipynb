{
 "cells": [
  {
   "cell_type": "code",
   "execution_count": null,
   "metadata": {},
   "outputs": [],
   "source": [
    "%autosave 5"
   ]
  },
  {
   "cell_type": "code",
   "execution_count": null,
   "metadata": {},
   "outputs": [],
   "source": [
    "from ctypes import resize\n",
    "from keras.preprocessing.image import ImageDataGenerator\n",
    "from skimage import io\n",
    "#!pip install opencv-python\n",
    "import cv2\n",
    "import matplotlib.pyplot as plt\n",
    "import numpy as np\n",
    "# from google.colab.patches import cv2_imshow"
   ]
  },
  {
   "cell_type": "code",
   "execution_count": null,
   "metadata": {},
   "outputs": [],
   "source": [
    "datagen = ImageDataGenerator(\n",
    "        rotation_range=30,     #Random rotation between 0 and 30\n",
    "        width_shift_range=0.2,   #% shift\n",
    "        height_shift_range=0.2,\n",
    "        shear_range=0.5,\n",
    "        zoom_range=0.4,\n",
    "        horizontal_flip=False,\n",
    "        brightness_range = (0.001, 2.5),\n",
    "        fill_mode='nearest') # can also try nearest, constant, reflect, wrap\n"
   ]
  },
  {
   "cell_type": "code",
   "execution_count": null,
   "metadata": {},
   "outputs": [],
   "source": [
    "dataset = []\n",
    "\n",
    "import numpy as np\n",
    "from skimage import io\n",
    "import os\n",
    "from PIL import Image\n",
    "\n",
    "image_directory = 'E:/iiitb/integration/data_augumentation/aug_dataset/barrier/'\n",
    "SIZE = 128\n",
    "dataset = []\n",
    "imagess=[]\n",
    "my_images = os.listdir(image_directory)\n",
    "for i, image_name in enumerate(my_images):\n",
    "    if (image_name.split('.')[1] in ['jpg','jpeg','png','html']):\n",
    "        image = io.imread(image_directory + image_name)\n",
    "        imagess.append(cv2.imread(image_name))\n",
    "        #print(str(image_name))\n",
    "        image = Image.fromarray(image, 'RGB')\n",
    "        image = image.resize((SIZE,SIZE))\n",
    "        dataset.append(np.array(image))"
   ]
  },
  {
   "cell_type": "markdown",
   "metadata": {},
   "source": [
    "## NOISE"
   ]
  },
  {
   "cell_type": "code",
   "execution_count": null,
   "metadata": {},
   "outputs": [],
   "source": [
    "# TYPE 1\n",
    "\n",
    "img=cv2.imread('E:/iiitb/integration/data_augumentation/aug_dataset/barrier/_82477379_04dc99bd-4040-4806-990e-7cdc17b227aa.jpg')\n",
    "img = img/255.0\n",
    "fig=plt.figure(dpi=300)\n",
    "\n",
    "gauss_noise=np.zeros((img.shape),dtype=np.uint8)\n",
    "cv2.randn(gauss_noise,128,20)\n",
    "gauss_noise=(gauss_noise*0.5).astype(np.uint8)\n",
    "gn_img=cv2.add(img,gauss_noise)\n",
    "\n",
    "plt.axis(\"off\")\n",
    "# plt.imshow(gn_img)\n",
    "plt.savefig(\"result.png\")\n",
    "\n",
    "uni_noise=np.zeros((img.shape),dtype=np.uint8)\n",
    "cv2.randn(uni_noise,0,255)\n",
    "uni_noise=(uni_noise*0.5).astype(np.uint8)\n",
    "un_img=cv2.add(img,uni_noise)\n",
    "\n",
    "plt.axis(\"off\")\n",
    "# plt.imshow(un_img)\n",
    "plt.savefig(\"result1.png\")\n",
    "\n",
    "imp_noise=np.zeros((img.shape),dtype=np.uint8)\n",
    "cv2.randu(imp_noise,0,255)\n",
    "imp_noise=cv2.threshold(imp_noise,245,255,cv2.THRESH_BINARY)[1]\n",
    "in_img=cv2.add(img,imp_noise)\n",
    "\n",
    "plt.axis(\"off\")\n",
    "# plt.imshow(in_img)\n",
    "plt.savefig(\"result2.png\")\n",
    "#plt.title(\"impulse\")\n",
    "#fig.add_subplot(2,3,2)\n"
   ]
  },
  {
   "cell_type": "code",
   "execution_count": null,
   "metadata": {},
   "outputs": [],
   "source": [
    "# TYPE 2\n",
    "import cv2\n",
    "import numpy as np\n",
    "from skimage.util import random_noise\n",
    "\n",
    "# Load the image\n",
    "img = cv2.imread(\"E:/data_augumentation/img.jpg\")\n",
    "\n",
    "# Add salt-and-pepper noise to the image.\n",
    "noise_img = random_noise(img, mode='gaussian',amount=0.3)\n",
    "\n",
    "# The above function returns a floating-point image\n",
    "# on the range [0, 1], thus we changed it to 'uint8'\n",
    "# and from [0,255]\n",
    "noise_img = np.array(255*noise_img, dtype = 'uint8')\n",
    "\n",
    "# Display the noise image\n",
    "cv2.imshow('blur',noise_img)\n",
    "cv2.waitKey(0)"
   ]
  },
  {
   "cell_type": "code",
   "execution_count": null,
   "metadata": {},
   "outputs": [],
   "source": [
    "img = 'aug_0_3094.png'\n",
    "from google.colab.patches import cv2_imshow\n",
    "img = cv2.imread(img)\n",
    "bfilter = cv2.bilateralFilter(img, 11, 17, 17)\n",
    "#=img.reshape(-1,28,28,1)\n",
    "type(img)\n",
    "plt.imshow(img)"
   ]
  },
  {
   "cell_type": "markdown",
   "metadata": {},
   "source": [
    "## BLUR"
   ]
  },
  {
   "cell_type": "code",
   "execution_count": null,
   "metadata": {},
   "outputs": [],
   "source": [
    "x = io.imread('E:\\data_augumentation\\speedsignal\\railway-track-number-board-548x411.jpg')\n",
    "x = x.reshape((1, ) + x.shape) \n",
    "\n",
    "i = 0\n",
    "for batch in datagen.flow(x, batch_size=32,  \n",
    "                          save_to_dir='augumented', \n",
    "                          save_prefix='aug', \n",
    "                          save_format='png'):\n",
    "        \n",
    "        # 3 blurrs\n",
    "        x1=cv2.imread('E:\\data_augumentation\\speedsignal\\railway-track-number-board-548x411.jpg')\n",
    "        #cv2.imshow('blurred image',i)\n",
    "        #plt.imshow(x)\n",
    "        gauss = cv2.GaussianBlur(x1,(9,9) ,0)\n",
    "        #plt.imshow(blurred_original_image)\n",
    "        avging = cv2.blur(x1,(10,10))\n",
    "        #cv2_imshow(avging)\n",
    "        medBlur = cv2.medianBlur(x1,1)\n",
    "        #cv2_imshow( medBlur)\n",
    "        \n",
    "        # hori vertical blurrs\n",
    "        \n",
    "        kernel_size = 30\n",
    "  \n",
    "        # Create the vertical kernel.\n",
    "        kernel_v = np.zeros((kernel_size, kernel_size))\n",
    "        # Create a copy of the same for creating the horizontal kernel.\n",
    "        kernel_h = np.copy(kernel_v)\n",
    "        # Fill the middle row with ones.\n",
    "        kernel_v[:, int((kernel_size - 1)/2)] = np.ones(kernel_size)\n",
    "        kernel_h[int((kernel_size - 1)/2), :] = np.ones(kernel_size)\n",
    "        # Normalize.\n",
    "        kernel_v /= kernel_size\n",
    "        kernel_h /= kernel_size\n",
    "        # Apply the vertical kernel.\n",
    "        vertical_mb = cv2.filter2D(x1, -1, kernel_v)\n",
    "        # Apply the horizontal kernel.\n",
    "        horizonal_mb = cv2.filter2D(x1, -1, kernel_h)\n",
    "        \n",
    "        # Save the outputs.\n",
    "        c=20\n",
    "        cv2.imwrite(f'E:/data_augumentation/augumented/image.png',gauss)\n",
    "        cv2.imwrite(f'E:/data_augumentation/augumented/image1_{c}.png',avging)\n",
    "        cv2.imwrite(f'E:/data_augumentation/augumented/image2_{c}.png',medBlur)\n",
    "        cv2.imwrite(f'E:/data_augumentation/augumented/image3_{c}.png',vertical_mb)\n",
    "        cv2.imwrite(f'E:/data_augumentation/augumented/image4_{c}.png',horizonal_mb)\n",
    "            \n",
    "        \n",
    "        i += 1\n",
    "        if i > 15:\n",
    "                break  # otherwise the generator would loop indefinitely\n",
    "\n"
   ]
  }
 ],
 "metadata": {
  "kernelspec": {
   "display_name": "Python 3 (ipykernel)",
   "language": "python",
   "name": "python3"
  },
  "language_info": {
   "codemirror_mode": {
    "name": "ipython",
    "version": 3
   },
   "file_extension": ".py",
   "mimetype": "text/x-python",
   "name": "python",
   "nbconvert_exporter": "python",
   "pygments_lexer": "ipython3",
   "version": "3.11.0"
  },
  "vscode": {
   "interpreter": {
    "hash": "ee18529d48a9560b2b2d3d33a8e2e2ddc008c290d29667e366a96763a85f941d"
   }
  }
 },
 "nbformat": 4,
 "nbformat_minor": 4
}
